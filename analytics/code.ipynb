{
 "cells": [
  {
   "cell_type": "code",
   "execution_count": 2,
   "metadata": {},
   "outputs": [],
   "source": [
    "# 1. Cargue en un Dataframe los datos de los accidentes de los \n",
    "# últimos 3 años\n",
    "import pandas as pd \n",
    "df_2020 = pd.read_csv(\"../conjunto_de_datos/atus_anual_2020.csv\")\n",
    "df_2021 = pd.read_csv(\"../conjunto_de_datos/atus_anual_2021.csv\")\n",
    "df_2022 = pd.read_csv(\"../conjunto_de_datos/atus_anual_2022.csv\")\n",
    "\n",
    "df_2020['ANIO'] = 2020\n",
    "df_2021['ANIO'] = 2021\n",
    "df_2022['ANIO'] = 2022\n",
    "\n",
    "frames = [df_2020, df_2021, df_2022]\n",
    "\n",
    "df = pd.concat(frames)"
   ]
  },
  {
   "cell_type": "code",
   "execution_count": 12,
   "metadata": {},
   "outputs": [
    {
     "data": {
      "text/plain": [
       "COBERTURA       1067071\n",
       "ID_ENTIDAD      1067071\n",
       "ID_MUNICIPIO    1067071\n",
       "ANIO            1067071\n",
       "MES             1067071\n",
       "ID_HORA         1067071\n",
       "ID_MINUTO       1067071\n",
       "ID_DIA          1067071\n",
       "DIASEMANA       1067071\n",
       "URBANA          1067071\n",
       "SUBURBANA       1067071\n",
       "TIPACCID        1067071\n",
       "AUTOMOVIL       1067071\n",
       "CAMPASAJ        1067071\n",
       "MICROBUS        1067071\n",
       "PASCAMION       1067071\n",
       "OMNIBUS         1067071\n",
       "TRANVIA         1067071\n",
       "CAMIONETA       1067071\n",
       "CAMION          1067071\n",
       "TRACTOR         1067071\n",
       "FERROCARRI      1067071\n",
       "MOTOCICLET      1067071\n",
       "BICICLETA       1067071\n",
       "OTROVEHIC       1067071\n",
       "CAUSAACCI       1067071\n",
       "CAPAROD         1067071\n",
       "SEXO            1067071\n",
       "ALIENTO         1067071\n",
       "CINTURON        1067071\n",
       "ID_EDAD         1067071\n",
       "CONDMUERTO      1067071\n",
       "CONDHERIDO      1067071\n",
       "PASAMUERTO      1067071\n",
       "PASAHERIDO      1067071\n",
       "PEATMUERTO      1067071\n",
       "PEATHERIDO      1067071\n",
       "CICLMUERTO      1067071\n",
       "CICLHERIDO      1067071\n",
       "OTROMUERTO      1067071\n",
       "OTROHERIDO      1067071\n",
       "NEMUERTO        1067071\n",
       "NEHERIDO        1067071\n",
       "CLASACC         1067071\n",
       "ESTATUS          392710\n",
       "dtype: int64"
      ]
     },
     "execution_count": 12,
     "metadata": {},
     "output_type": "execute_result"
    }
   ],
   "source": [
    "df.count()"
   ]
  },
  {
   "cell_type": "code",
   "execution_count": 13,
   "metadata": {},
   "outputs": [],
   "source": [
    "#2.  Agregue una columna tipo date que englobe las columnas \n",
    "# correspondientes a Año, Mes, Dia, Hora y Minuto.\n",
    "\n",
    "# Iterar sobre cada fila del DataFrame\n",
    "for index, row in df.iterrows():\n",
    "    # Corregir las horas si es mayor de 23\n",
    "    if row['ID_HORA'] > 23:\n",
    "        row['ID_HORA'] = 0\n",
    "\n",
    "    # Corregir los minutos si es mayor o igual a 60\n",
    "    if row['ID_MINUTO'] >= 60:\n",
    "        row['ID_MINUTO'] = 0\n",
    "\n",
    "    # Validar y corregir los valores de mes y día\n",
    "    if not isinstance(row['MES'], int) or row['MES'] > 12 or row['MES'] < 1:\n",
    "        row['MES'] = 1\n",
    "    \n",
    "    if not isinstance(row['ID_DIA'], int) or row['ID_DIA'] > 31 or row['ID_DIA'] < 1:\n",
    "        row['ID_DIA'] = 1"
   ]
  },
  {
   "cell_type": "code",
   "execution_count": 14,
   "metadata": {},
   "outputs": [
    {
     "name": "stdout",
     "output_type": "stream",
     "text": [
      "           ANIO  MES  ID_DIA  ID_HORA  ID_MINUTO               Fecha\n",
      "Municipal  2020    1       1        0          1 2020-01-01 00:01:00\n",
      "Municipal  2020    1       1        0          1 2020-01-01 00:01:00\n",
      "Municipal  2020    1       1       10          1 2020-01-01 10:01:00\n",
      "Municipal  2020    2       1        0          1 2020-02-01 00:01:00\n",
      "Municipal  2020    2       1       10          1 2020-02-01 10:01:00\n",
      "...         ...  ...     ...      ...        ...                 ...\n",
      "392705     2022   12      30        7         45 2022-12-30 07:45:00\n",
      "392706     2022   12      30        8          0 2022-12-30 08:00:00\n",
      "392707     2022   12      30       17         20 2022-12-30 17:20:00\n",
      "392708     2022   12      31       14         45 2022-12-31 14:45:00\n",
      "392709     2022   12      31       22         15 2022-12-31 22:15:00\n",
      "\n",
      "[1067071 rows x 6 columns]\n"
     ]
    }
   ],
   "source": [
    "def corregir_valor(valor, minimo, maximo):\n",
    "    if not str(valor).isdigit():\n",
    "        return minimo\n",
    "    valor = int(valor)\n",
    "    if valor < minimo:\n",
    "        return minimo\n",
    "    elif valor > maximo:\n",
    "        return maximo\n",
    "    else:\n",
    "        return valor\n",
    "\n",
    "# Corregir los valores de mes, día, hora y minuto\n",
    "df['MES'] = df['MES'].apply(lambda x: corregir_valor(x, 1, 12))\n",
    "df['ID_DIA'] = df['ID_DIA'].apply(lambda x: corregir_valor(x, 1, 31))\n",
    "df['ID_HORA'] = df['ID_HORA'].apply(lambda x: corregir_valor(x, 0, 23))\n",
    "df['ID_MINUTO'] = df['ID_MINUTO'].apply(lambda x: corregir_valor(x, 0, 59))\n",
    "df['ANIO'] = df['ANIO'].apply(lambda x: corregir_valor(x, 2020, 2022))\n",
    "\n",
    "# Convertir las columnas 'ANIO', 'MES' e 'ID_DIA' en una columna tipo date\n",
    "df['Fecha'] = pd.to_datetime(df['ANIO'].astype(str) + '-' + df['MES'].astype(str) + '-' + df['ID_DIA'].astype(str) + ' ' + df['ID_HORA'].astype(str) + ':' + df['ID_MINUTO'].astype(str), errors='coerce')\n",
    "\n",
    "# Reemplazar los valores de día no válidos con 1\n",
    "df['ID_DIA'] = df['ID_DIA'].apply(lambda x: 1 if not str(x).isdigit() or int(x) == 0 else int(x))\n",
    "\n",
    "# Reemplazar los valores de mes no válidos con 1\n",
    "df['MES'] = df['MES'].apply(lambda x: 1 if not str(x).isdigit() or int(x) == 0 else int(x))\n",
    "\n",
    "\n",
    "# Mostrar el DataFrame con la nueva columna 'Fecha'\n",
    "print(df[['ANIO', 'MES', 'ID_DIA', 'ID_HORA', 'ID_MINUTO', 'Fecha']])"
   ]
  },
  {
   "cell_type": "code",
   "execution_count": 15,
   "metadata": {},
   "outputs": [
    {
     "name": "stdout",
     "output_type": "stream",
     "text": [
      "                        Fecha                      URBANA  \\\n",
      "Municipal 2020-01-01 00:01:00  Sin accidente en esta zona   \n",
      "Municipal 2020-01-01 00:01:00  Sin accidente en esta zona   \n",
      "Municipal 2020-01-01 10:01:00  Sin accidente en esta zona   \n",
      "Municipal 2020-02-01 00:01:00  Sin accidente en esta zona   \n",
      "Municipal 2020-02-01 10:01:00  Sin accidente en esta zona   \n",
      "...                       ...                         ...   \n",
      "392705    2022-12-30 07:45:00   Accidente en intersección   \n",
      "392706    2022-12-30 08:00:00   Accidente en intersección   \n",
      "392707    2022-12-30 17:20:00   Accidente en intersección   \n",
      "392708    2022-12-31 14:45:00   Accidente en intersección   \n",
      "392709    2022-12-31 22:15:00   Accidente en intersección   \n",
      "\n",
      "                                 SUBURBANA       Área  \n",
      "Municipal  Colisión con vehículo automotor  Suburbana  \n",
      "Municipal         Colisión con objeto fijo  Suburbana  \n",
      "Municipal         Colisión con motocicleta  Suburbana  \n",
      "Municipal  Colisión con vehículo automotor  Suburbana  \n",
      "Municipal  Colisión con vehículo automotor  Suburbana  \n",
      "...                                    ...        ...  \n",
      "392705          Sin accidente en esta zona     Urbana  \n",
      "392706          Sin accidente en esta zona     Urbana  \n",
      "392707          Sin accidente en esta zona     Urbana  \n",
      "392708          Sin accidente en esta zona     Urbana  \n",
      "392709          Sin accidente en esta zona     Urbana  \n",
      "\n",
      "[1067071 rows x 4 columns]\n"
     ]
    }
   ],
   "source": [
    "#3.  Agregue una columna para Área cuyos valores serán Urbana o Suburbana \n",
    "# dependiendo del área donde ocurrió el accidente.\n",
    "\n",
    "def asignar_area(valor):\n",
    "    if valor == 'Sin accidente en esta zona':\n",
    "        return 'Urbana'\n",
    "    else:\n",
    "        return 'Suburbana'\n",
    "\n",
    "# Aplicar la función para crear la nueva columna 'Área'\n",
    "df['Área'] = df['SUBURBANA'].apply(asignar_area)\n",
    "\n",
    "# Mostrar el DataFrame filtrado\n",
    "print(df[['Fecha','URBANA','SUBURBANA','Área']])"
   ]
  },
  {
   "cell_type": "code",
   "execution_count": 16,
   "metadata": {},
   "outputs": [
    {
     "name": "stdout",
     "output_type": "stream",
     "text": [
      "                               URBANA                        SUBURBANA  \\\n",
      "Municipal  Sin accidente en esta zona  Colisión con vehículo automotor   \n",
      "Municipal  Sin accidente en esta zona         Colisión con objeto fijo   \n",
      "Municipal  Sin accidente en esta zona         Colisión con motocicleta   \n",
      "Municipal  Sin accidente en esta zona  Colisión con vehículo automotor   \n",
      "Municipal  Sin accidente en esta zona  Colisión con vehículo automotor   \n",
      "...                               ...                              ...   \n",
      "392705      Accidente en intersección       Sin accidente en esta zona   \n",
      "392706      Accidente en intersección       Sin accidente en esta zona   \n",
      "392707      Accidente en intersección       Sin accidente en esta zona   \n",
      "392708      Accidente en intersección       Sin accidente en esta zona   \n",
      "392709      Accidente en intersección       Sin accidente en esta zona   \n",
      "\n",
      "                                      Zona  \n",
      "Municipal  Colisión con vehículo automotor  \n",
      "Municipal         Colisión con objeto fijo  \n",
      "Municipal         Colisión con motocicleta  \n",
      "Municipal  Colisión con vehículo automotor  \n",
      "Municipal  Colisión con vehículo automotor  \n",
      "...                                    ...  \n",
      "392705           Accidente en intersección  \n",
      "392706           Accidente en intersección  \n",
      "392707           Accidente en intersección  \n",
      "392708           Accidente en intersección  \n",
      "392709           Accidente en intersección  \n",
      "\n",
      "[1067071 rows x 3 columns]\n"
     ]
    }
   ],
   "source": [
    "#4.  Agregue una columna Zona cuyos valores serán la zona donde ocurrió el accidente\n",
    "\n",
    "def asignar_zona(urbana, suburbana):\n",
    "    if 'Sin accidente en esta zona' in suburbana:\n",
    "        return urbana\n",
    "    elif 'Sin accidente en esta zona' in urbana:\n",
    "        return suburbana\n",
    "    else:\n",
    "        return None  # Devolver None si no se cumple ninguna condición\n",
    "\n",
    "# Aplicar la función para crear la nueva columna 'Zona'\n",
    "df['Zona'] = df.apply(lambda row: asignar_zona(row['URBANA'], row['SUBURBANA']), axis=1)\n",
    "\n",
    "# Mostrar el DataFrame filtrado\n",
    "print(df[['URBANA', 'SUBURBANA', 'Zona']])"
   ]
  },
  {
   "cell_type": "code",
   "execution_count": 17,
   "metadata": {},
   "outputs": [
    {
     "name": "stdout",
     "output_type": "stream",
     "text": [
      "           COBERTURA  ID_ENTIDAD  ID_MUNICIPIO  ANIO  MES  ID_HORA  ID_MINUTO  \\\n",
      "Municipal          1           1          2020  2020    1        0          1   \n",
      "Municipal          1           1          2020  2020    1        0          1   \n",
      "Municipal          1           1          2020  2020    1       10          1   \n",
      "Municipal          1           1          2020  2020    2        0          1   \n",
      "Municipal          1           1          2020  2020    2       10          1   \n",
      "...              ...         ...           ...   ...  ...      ...        ...   \n",
      "392705     Municipal          32            56  2022   12        7         45   \n",
      "392706     Municipal          32            56  2022   12        8          0   \n",
      "392707     Municipal          32            56  2022   12       17         20   \n",
      "392708     Municipal          32            56  2022   12       14         45   \n",
      "392709     Municipal          32            56  2022   12       22         15   \n",
      "\n",
      "           ID_DIA                  DIASEMANA                         TIPACCID  \\\n",
      "Municipal       1  Accidente en intersección                                1   \n",
      "Municipal       1  Accidente en intersección                                1   \n",
      "Municipal       1  Accidente en intersección                                1   \n",
      "Municipal       1  Accidente en intersección                                2   \n",
      "Municipal       1  Accidente en intersección                                2   \n",
      "...           ...                        ...                              ...   \n",
      "392705         30                    Viernes         Colisión con objeto fijo   \n",
      "392706         30                    Viernes  Colisión con vehículo automotor   \n",
      "392707         30                    Viernes                        Volcadura   \n",
      "392708         31                     Sabado  Colisión con vehículo automotor   \n",
      "392709         31                     Sabado         Colisión con motocicleta   \n",
      "\n",
      "           ...  CICLHERIDO  OTROMUERTO  OTROHERIDO  NEMUERTO    NEHERIDO  \\\n",
      "Municipal  ...           0           0           0         0  Sólo daños   \n",
      "Municipal  ...           0           0           0         0  Sólo daños   \n",
      "Municipal  ...           0           0           0         0  Sólo daños   \n",
      "Municipal  ...           0           0           0         0  Sólo daños   \n",
      "Municipal  ...           0           0           0         0  Sólo daños   \n",
      "...        ...         ...         ...         ...       ...         ...   \n",
      "392705     ...           0           0           0         0           0   \n",
      "392706     ...           0           0           0         0           0   \n",
      "392707     ...           0           0           0         0           0   \n",
      "392708     ...           0           0           0         0           0   \n",
      "392709     ...           0           0           0         0           0   \n",
      "\n",
      "                      CLASACC             ESTATUS               Fecha  \\\n",
      "Municipal  Cifras Definitivas                 NaN 2020-01-01 00:01:00   \n",
      "Municipal  Cifras Definitivas                 NaN 2020-01-01 00:01:00   \n",
      "Municipal  Cifras Definitivas                 NaN 2020-01-01 10:01:00   \n",
      "Municipal  Cifras Definitivas                 NaN 2020-02-01 00:01:00   \n",
      "Municipal  Cifras Definitivas                 NaN 2020-02-01 10:01:00   \n",
      "...                       ...                 ...                 ...   \n",
      "392705               No fatal  Cifras Definitivas 2022-12-30 07:45:00   \n",
      "392706             Sólo daños  Cifras Definitivas 2022-12-30 08:00:00   \n",
      "392707             Sólo daños  Cifras Definitivas 2022-12-30 17:20:00   \n",
      "392708             Sólo daños  Cifras Definitivas 2022-12-31 14:45:00   \n",
      "392709             Sólo daños  Cifras Definitivas 2022-12-31 22:15:00   \n",
      "\n",
      "                Área                             Zona  \n",
      "Municipal  Suburbana  Colisión con vehículo automotor  \n",
      "Municipal  Suburbana         Colisión con objeto fijo  \n",
      "Municipal  Suburbana         Colisión con motocicleta  \n",
      "Municipal  Suburbana  Colisión con vehículo automotor  \n",
      "Municipal  Suburbana  Colisión con vehículo automotor  \n",
      "...              ...                              ...  \n",
      "392705        Urbana        Accidente en intersección  \n",
      "392706        Urbana        Accidente en intersección  \n",
      "392707        Urbana        Accidente en intersección  \n",
      "392708        Urbana        Accidente en intersección  \n",
      "392709        Urbana        Accidente en intersección  \n",
      "\n",
      "[1067071 rows x 46 columns]\n"
     ]
    }
   ],
   "source": [
    "#5.  Elimine las columnas URBANA y SUBURBANA\n",
    "\n",
    "# Eliminar las columnas 'URBANA' y 'SUBURBANA' \n",
    "df_modificado = df.drop(columns=['URBANA', 'SUBURBANA'])\n",
    "\n",
    "# Mostrar el DataFrame modificado\n",
    "print(df_modificado)"
   ]
  },
  {
   "cell_type": "code",
   "execution_count": 18,
   "metadata": {},
   "outputs": [
    {
     "name": "stdout",
     "output_type": "stream",
     "text": [
      "     ID_ENTIDAD  ID_MUNICIPIO\n",
      "0             1          2021\n",
      "1             2          2021\n",
      "2             3          2021\n",
      "3             4          2021\n",
      "4             5          2021\n",
      "..          ...           ...\n",
      "565         566          2020\n",
      "566         567          2020\n",
      "567         568          2021\n",
      "568         569          2020\n",
      "569         570          2021\n",
      "\n",
      "[570 rows x 2 columns]\n"
     ]
    }
   ],
   "source": [
    "#6.  Determine cual municipio de cada estado tuvo más meses sin accidentes\n",
    "\n",
    "# Contar el número de meses sin accidentes en la zona urbana por estado y municipio\n",
    "meses_sin_accidentes_urbana = df[df['URBANA'] == 'Sin accidente en esta zona'].groupby(['ID_ENTIDAD', 'ID_MUNICIPIO']).size()\n",
    "\n",
    "# Contar el número de meses sin accidentes en la zona suburbana por estado y municipio\n",
    "meses_sin_accidentes_suburbana = df[df['SUBURBANA'] == 'Sin accidente en esta zona'].groupby(['ID_ENTIDAD', 'ID_MUNICIPIO']).size()\n",
    "\n",
    "# Combinar los resultados de las dos operaciones de agrupación\n",
    "meses_sin_accidentes = meses_sin_accidentes_urbana.add(meses_sin_accidentes_suburbana, fill_value=0)\n",
    "\n",
    "# Obtener el índice del municipio con el mayor número de meses sin accidentes por estado\n",
    "municipio_mas_seguro = meses_sin_accidentes.groupby('ID_ENTIDAD').idxmax()\n",
    "\n",
    "# Obtener el municipio con el mayor número de meses sin accidentes por estado\n",
    "municipios_seguros = meses_sin_accidentes.loc[municipio_mas_seguro]\n",
    "\n",
    "print(municipios_seguros.reset_index()[['ID_ENTIDAD', 'ID_MUNICIPIO']])"
   ]
  },
  {
   "cell_type": "code",
   "execution_count": 19,
   "metadata": {},
   "outputs": [
    {
     "name": "stdout",
     "output_type": "stream",
     "text": [
      "                                 TIPACCID   Total  Porcentaje\n",
      "0                       Caída de pasajero    1784    0.454279\n",
      "1                        Certificado cero   15479    3.941585\n",
      "2                     Colisión con animal    1022    0.260243\n",
      "3                   Colisión con ciclista    4048    1.030786\n",
      "4                Colisión con ferrocarril     268    0.068244\n",
      "5                Colisión con motocicleta   53629   13.656133\n",
      "6                Colisión con objeto fijo   47033   11.976522\n",
      "7   Colisión con peatón (atropellamiento)   11066    2.817855\n",
      "8         Colisión con vehículo automotor  229940   58.552112\n",
      "9                                Incendio     348    0.088615\n",
      "10                                   Otro    6325    1.610603\n",
      "11                      Salida del camino   10857    2.764635\n",
      "12                              Volcadura   10911    2.778386\n"
     ]
    }
   ],
   "source": [
    "#7.   Resuma los accidentes del último año por tipo y que porcentaje representan\n",
    "\n",
    "# Filtrar el DataFrame para obtener solo los datos del último año\n",
    "ultimo_ano = df[df['ANIO'] == df['ANIO'].max()]\n",
    "\n",
    "# Agrupar los datos por tipo de accidente y contar el número de accidentes de cada tipo\n",
    "resumen_accidentes = ultimo_ano.groupby('TIPACCID').size().reset_index(name='Total')\n",
    "\n",
    "# Calcular el porcentaje que representa cada tipo de accidente\n",
    "total_accidentes = resumen_accidentes['Total'].sum()\n",
    "resumen_accidentes['Porcentaje'] = (resumen_accidentes['Total'] / total_accidentes) * 100\n",
    "\n",
    "# Mostrar el resumen de accidentes por tipo y porcentaje\n",
    "print(resumen_accidentes)"
   ]
  },
  {
   "cell_type": "code",
   "execution_count": 7,
   "metadata": {},
   "outputs": [
    {
     "name": "stdout",
     "output_type": "stream",
     "text": [
      "Muertos en accidentes fatales en los últimos 3 años: 159582\n",
      "Lesionados en accidentes fatales en los últimos 3 años: 95445.0\n"
     ]
    }
   ],
   "source": [
    "#8.   Obtenga la cantidad de muertos y lesionados de los últimos 3 años\n",
    "\n",
    "# Filtrar el DataFrame para obtener solo los datos de los últimos 3 años y los accidentes clasificados como fatales\n",
    "ultimos_tres_anios = df[df['ANIO'].isin([2020,2021,2022])]\n",
    "\n",
    "# Convertir las columnas relevantes a tipo numérico\n",
    "ultimos_tres_anios[['CONDMUERTO', 'PASAMUERTO', 'PEATMUERTO', 'CICLMUERTO', 'OTROMUERTO', 'NEMUERTO', 'CONDHERIDO', 'PASAHERIDO', 'PEATHERIDO', 'CICLHERIDO', 'OTROHERIDO', 'NEHERIDO']] = \\\n",
    "ultimos_tres_anios[['CONDMUERTO', 'PASAMUERTO', 'PEATMUERTO', 'CICLMUERTO', 'OTROMUERTO', 'NEMUERTO', 'CONDHERIDO', 'PASAHERIDO', 'PEATHERIDO', 'CICLHERIDO', 'OTROHERIDO', 'NEHERIDO']].apply(pd.to_numeric, errors='coerce')\n",
    "\n",
    "# Sumar el número de muertos en este período\n",
    "total_muertos = (ultimos_tres_anios['CONDMUERTO'].sum() +\n",
    "                 ultimos_tres_anios['PASAMUERTO'].sum() + \n",
    "                 ultimos_tres_anios['PEATMUERTO'].sum() + \n",
    "                 ultimos_tres_anios['CICLMUERTO'].sum() + \n",
    "                 ultimos_tres_anios['OTROMUERTO'].sum() + \n",
    "                 ultimos_tres_anios['NEMUERTO'].sum())\n",
    "\n",
    "# Sumar el número de lesionados en este período\n",
    "total_lesionados = (ultimos_tres_anios['CONDHERIDO'].sum() +\n",
    "                    ultimos_tres_anios['PASAHERIDO'].sum() + \n",
    "                    ultimos_tres_anios['PEATHERIDO'].sum() +\n",
    "                    ultimos_tres_anios['CICLHERIDO'].sum() +\n",
    "                    ultimos_tres_anios['OTROHERIDO'].sum() +\n",
    "                    ultimos_tres_anios['NEHERIDO'].sum())\n",
    "\n",
    "# Mostrar el total de muertos y lesionados de los últimos 3 años\n",
    "print(\"Muertos en accidentes fatales en los últimos 3 años:\", total_muertos)\n",
    "print(\"Lesionados en accidentes fatales en los últimos 3 años:\", total_lesionados)\n"
   ]
  },
  {
   "cell_type": "code",
   "execution_count": null,
   "metadata": {},
   "outputs": [
    {
     "name": "stdout",
     "output_type": "stream",
     "text": [
      "ANIO\n",
      "2020          NaN\n",
      "2021    12.032536\n",
      "2022    10.214277\n",
      "dtype: float64\n"
     ]
    }
   ],
   "source": [
    "#9.     ¿Cómo se compara el número de accidentes de cada año contra el anterior? \n",
    "#    ¿En qué porcentaje varió?\n",
    "\n",
    "accid_anio = df.groupby('ANIO').size()\n",
    "porcentaje_variacion = accid_anio.pct_change() * 100\n",
    "\n",
    "# Mostrar los porcentajes de variación\n",
    "print(porcentaje_variacion)"
   ]
  }
 ],
 "metadata": {
  "kernelspec": {
   "display_name": "Python 3 (ipykernel)",
   "language": "python",
   "name": "python3"
  },
  "language_info": {
   "codemirror_mode": {
    "name": "ipython",
    "version": 3
   },
   "file_extension": ".py",
   "mimetype": "text/x-python",
   "name": "python",
   "nbconvert_exporter": "python",
   "pygments_lexer": "ipython3",
   "version": "3.10.13"
  }
 },
 "nbformat": 4,
 "nbformat_minor": 2
}
